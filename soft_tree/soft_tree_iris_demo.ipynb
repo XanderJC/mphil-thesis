{
 "cells": [
  {
   "cell_type": "code",
   "execution_count": 1,
   "metadata": {},
   "outputs": [],
   "source": [
    "import autograd.numpy as np\n",
    "\n",
    "from sklearn.datasets import load_iris\n",
    "from sklearn import tree\n",
    "import matplotlib.pyplot as plt\n",
    "\n",
    "from soft_tree_model import soft_tree"
   ]
  },
  {
   "cell_type": "code",
   "execution_count": 2,
   "metadata": {},
   "outputs": [],
   "source": [
    "np.random.seed(41)"
   ]
  },
  {
   "cell_type": "code",
   "execution_count": 3,
   "metadata": {},
   "outputs": [],
   "source": [
    "data = load_iris()\n",
    "X = data['data']\n",
    "Y = data['target']\n",
    "\n",
    "y = np.zeros((Y.shape[0],3))\n",
    "y[:,0] = (Y==0).astype(int)\n",
    "y[:,1] = (Y==1).astype(int)\n",
    "y[:,2] = (Y==2).astype(int)\n",
    "\n",
    "X_mean = X.mean(axis=0)\n",
    "X_std = X.std(axis=0)\n",
    "X = X - X_mean\n",
    "X = X / X_std\n",
    "\n",
    "idx_test = np.zeros((150))\n",
    "idx_test[:30] = 1\n",
    "np.random.shuffle(idx_test)\n",
    "\n",
    "X_test = X[idx_test.astype(bool)]\n",
    "X_train = X[np.logical_not(idx_test.astype(bool))]\n",
    "\n",
    "y_test = y[idx_test.astype(bool)]\n",
    "y_train = y[np.logical_not(idx_test.astype(bool))]"
   ]
  },
  {
   "cell_type": "code",
   "execution_count": 4,
   "metadata": {},
   "outputs": [
    {
     "data": {
      "application/vnd.jupyter.widget-view+json": {
       "model_id": "5fdb6d89f7294d9e9a938eac21f1462c",
       "version_major": 2,
       "version_minor": 0
      },
      "text/plain": [
       "HBox(children=(IntProgress(value=0, description='Optimising Parameters', max=500, style=ProgressStyle(descript…"
      ]
     },
     "metadata": {},
     "output_type": "display_data"
    },
    {
     "name": "stdout",
     "output_type": "stream",
     "text": [
      "WARNING - Loss not decreasing at iter: 379\n",
      "\n",
      "WARNING - Potential convergence issues\n"
     ]
    },
    {
     "data": {
      "image/png": "[encoded data removed]",
      "text/plain": [
       "<Figure size 432x288 with 1 Axes>"
      ]
     },
     "metadata": {
      "needs_background": "light"
     },
     "output_type": "display_data"
    }
   ],
   "source": [
    "tree_model = soft_tree(tree_depth = 3)\n",
    "tree_model.train(X_train,y_train,500)"
   ]
  },
  {
   "cell_type": "code",
   "execution_count": 5,
   "metadata": {},
   "outputs": [
    {
     "data": {
      "text/plain": [
       "[array([[-3.04655047,  2.76430156, -4.94350868, -5.57314502],\n",
       "        [ 1.60042671, -2.68833434, -0.31118258, -0.36556522]]),\n",
       " array([[ 2.43136215,  2.63074929,  3.13353251,  6.89983795],\n",
       "        [-2.34285582, -2.98091125, -0.86529265,  0.61799934]]),\n",
       " array([[ 0.26882886,  0.94404331,  1.96109987,  1.02972804],\n",
       "        [ 0.80120729,  1.48711897,  0.68955467, -0.43014481]]),\n",
       " array([-2.30067544,  4.05257534, -0.7518999 ]),\n",
       " array([-1.70667201, -1.37588635,  4.08255835]),\n",
       " array([ 4.41498998, -1.67291302, -1.74207696]),\n",
       " array([0.155324  , 0.66585283, 0.17882317])]"
      ]
     },
     "execution_count": 5,
     "metadata": {},
     "output_type": "execute_result"
    }
   ],
   "source": [
    "tree_model.params"
   ]
  },
  {
   "cell_type": "code",
   "execution_count": 6,
   "metadata": {},
   "outputs": [
    {
     "data": {
      "text/plain": [
       "array([[0.97995182, 0.        , 0.        ],\n",
       "       [0.93772683, 0.        , 0.        ],\n",
       "       [0.98633545, 0.        , 0.        ],\n",
       "       [0.97804551, 0.        , 0.        ],\n",
       "       [0.        , 0.95448035, 0.        ],\n",
       "       [0.        , 0.8389521 , 0.        ],\n",
       "       [0.        , 0.91368101, 0.        ],\n",
       "       [0.        , 0.91565499, 0.        ],\n",
       "       [0.        , 0.9579933 , 0.        ],\n",
       "       [0.        , 0.9121574 , 0.        ],\n",
       "       [0.        , 0.95927074, 0.        ],\n",
       "       [0.        , 0.8186864 , 0.        ],\n",
       "       [0.        , 0.91214519, 0.        ],\n",
       "       [0.        , 0.95291246, 0.        ],\n",
       "       [0.        , 0.81725221, 0.        ],\n",
       "       [0.        , 0.95696449, 0.        ],\n",
       "       [0.        , 0.95393084, 0.        ],\n",
       "       [0.        , 0.97042687, 0.        ],\n",
       "       [0.        , 0.95468377, 0.        ],\n",
       "       [0.        , 0.        , 0.76000058],\n",
       "       [0.        , 0.        , 0.75322941],\n",
       "       [0.        , 0.        , 0.94010057],\n",
       "       [0.        , 0.        , 0.16982429],\n",
       "       [0.        , 0.        , 0.94429461],\n",
       "       [0.        , 0.        , 0.75358703],\n",
       "       [0.        , 0.        , 0.96867778],\n",
       "       [0.        , 0.        , 0.98000464],\n",
       "       [0.        , 0.        , 0.0861273 ],\n",
       "       [0.        , 0.        , 0.98809224],\n",
       "       [0.        , 0.        , 0.98377452]])"
      ]
     },
     "execution_count": 6,
     "metadata": {},
     "output_type": "execute_result"
    }
   ],
   "source": [
    "tree_model.forward(X_test)*y_test"
   ]
  }
 ],
 "metadata": {
  "kernelspec": {
   "display_name": "myenv",
   "language": "python",
   "name": "myenv"
  },
  "language_info": {
   "codemirror_mode": {
    "name": "ipython",
    "version": 3
   },
   "file_extension": ".py",
   "mimetype": "text/x-python",
   "name": "python",
   "nbconvert_exporter": "python",
   "pygments_lexer": "ipython3",
   "version": "3.7.4"
  }
 },
 "nbformat": 4,
 "nbformat_minor": 2
}
